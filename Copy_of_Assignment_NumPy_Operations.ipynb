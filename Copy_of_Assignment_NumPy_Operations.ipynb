{
  "nbformat": 4,
  "nbformat_minor": 0,
  "metadata": {
    "colab": {
      "provenance": [],
      "include_colab_link": true
    },
    "kernelspec": {
      "name": "python3",
      "display_name": "Python 3"
    }
  },
  "cells": [
    {
      "cell_type": "markdown",
      "metadata": {
        "id": "view-in-github",
        "colab_type": "text"
      },
      "source": [
        "<a href=\"https://colab.research.google.com/github/Analyst-Abhranil/AlmaBetter-Capstone-Projects/blob/main/Copy_of_Assignment_NumPy_Operations.ipynb\" target=\"_parent\"><img src=\"https://colab.research.google.com/assets/colab-badge.svg\" alt=\"Open In Colab\"/></a>"
      ]
    },
    {
      "cell_type": "markdown",
      "metadata": {
        "id": "MKXTc2Tas23T"
      },
      "source": [
        "# <u> Use only those concepts which have been taught till now </u>"
      ]
    },
    {
      "cell_type": "code",
      "metadata": {
        "id": "0V3Xtuh9siNn"
      },
      "source": [
        "import numpy as np"
      ],
      "execution_count": null,
      "outputs": []
    },
    {
      "cell_type": "markdown",
      "metadata": {
        "id": "Ase3qjp9cJUC"
      },
      "source": [
        "# <u>**Problem 1**</u>\n",
        "\n",
        "### What is the average value of the first 5 rows of the third and fourth columns?\n",
        "\n"
      ]
    },
    {
      "cell_type": "code",
      "metadata": {
        "id": "xj0SaK7smcPu",
        "outputId": "b0181a08-63aa-4c2b-9f91-e10043f116fc",
        "colab": {
          "base_uri": "https://localhost:8080/"
        }
      },
      "source": [
        "np.random.seed(21) # This guarantees the code will generate the same set of random numbers whenever executed\n",
        "random_integers = np.random.randint(1,high=500000, size=(20, 5))\n",
        "random_integers"
      ],
      "execution_count": null,
      "outputs": [
        {
          "output_type": "execute_result",
          "data": {
            "text/plain": [
              "array([[ 80842, 333008, 202553, 140037,  81969],\n",
              "       [ 63857,  42105, 261540, 481981, 176739],\n",
              "       [489984, 326386, 110795, 394863,  25024],\n",
              "       [ 38317,  49982, 408830, 485118,  16119],\n",
              "       [407675, 231729, 265455, 109413, 103399],\n",
              "       [174677, 343356, 301717, 224120, 401101],\n",
              "       [140473, 254634, 112262,  25063, 108262],\n",
              "       [375059, 406983, 208947, 115641, 296685],\n",
              "       [444899, 129585, 171318, 313094, 425041],\n",
              "       [188411, 335140, 141681,  59641, 211420],\n",
              "       [287650,   8973, 477425, 382803, 465168],\n",
              "       [  3975,  32213, 160603, 275485, 388234],\n",
              "       [246225,  56174, 244097,   9350, 496966],\n",
              "       [225516, 273338,  73335, 283013, 212813],\n",
              "       [ 38175, 282399, 318413, 337639, 379802],\n",
              "       [198049, 101115, 419547, 260219, 325793],\n",
              "       [148593, 425024, 348570, 117968, 107007],\n",
              "       [ 52547, 180346, 178760, 305186, 262153],\n",
              "       [ 11835, 449971, 494184, 472031, 353049],\n",
              "       [476442,  35455, 191553, 384154,  29917]])"
            ]
          },
          "metadata": {},
          "execution_count": 2
        }
      ]
    },
    {
      "cell_type": "code",
      "metadata": {
        "id": "N1hhYCZw3V1c",
        "colab": {
          "base_uri": "https://localhost:8080/"
        },
        "outputId": "f8ac144f-f1f0-4a37-ffdd-361bdf03143f"
      },
      "source": [
        "random_integers[:5,2:4].mean()\n",
        "\n",
        "\n",
        "\n"
      ],
      "execution_count": null,
      "outputs": [
        {
          "output_type": "execute_result",
          "data": {
            "text/plain": [
              "286058.5"
            ]
          },
          "metadata": {},
          "execution_count": 3
        }
      ]
    },
    {
      "cell_type": "markdown",
      "metadata": {
        "id": "POAj5sBgd3gd"
      },
      "source": [
        "#<u>**Problem 2**</u>\n",
        "\n",
        "### In this problem, we are going to calculate distances between some pairs of points :\n",
        "\n",
        "### <u> Measures of distances </u>\n",
        "* ### Euclidean Distance : The distance between two points $(x_{1},y_{1})$ , $(x_{2},y_{2})$ is defined as :\n",
        "${\\displaystyle d(x,y)={\\sqrt {(x_{1}-x_{2})^{2}+(y_{1}-y_{2})^{2}}}.}$\n",
        "\n",
        "* ### Manhattan Distance : The distance between two points $(x_{1},y_{1})$ , $(x_{2},y_{2})$ is defined as :\n",
        "${\\displaystyle d(x,y)=|x_{1}-x_{2}|+|y_{1}-y_{2}|}$\n"
      ]
    },
    {
      "cell_type": "markdown",
      "metadata": {
        "id": "lw7TLsfd-eXc"
      },
      "source": [
        "### Create a 2-D array of 10 points where the x-coordinates and the y-coordinates can take random integral values between 5 and 20.\n",
        "\n",
        "\n",
        "### Next, create two 1-D arrays(one for  Euclidean distance and the other for  Manhattan distance) for these points\n"
      ]
    },
    {
      "cell_type": "code",
      "metadata": {
        "id": "TOEq4PEP5y8X",
        "colab": {
          "base_uri": "https://localhost:8080/"
        },
        "outputId": "d7548d39-cf91-4656-ae0e-98aaf9a57193"
      },
      "source": [
        "# Create the 10 points\n",
        "np.random.seed(20)\n",
        "arr=np.random.randint(5,20,(10,2))\n",
        "print(arr)\n"
      ],
      "execution_count": null,
      "outputs": [
        {
          "output_type": "stream",
          "name": "stdout",
          "text": [
            "[[ 8 15]\n",
            " [17 15]\n",
            " [14  9]\n",
            " [16 11]\n",
            " [12  7]\n",
            " [ 5 11]\n",
            " [13 10]\n",
            " [15 15]\n",
            " [16  8]\n",
            " [ 5 18]]\n"
          ]
        }
      ]
    },
    {
      "cell_type": "code",
      "metadata": {
        "id": "n86qvsfF6PO2",
        "colab": {
          "base_uri": "https://localhost:8080/"
        },
        "outputId": "4237527e-6c4a-4af9-a912-9a2ea9073a27"
      },
      "source": [
        "# Calculate Euclidean distances between these pairs of points (total 10*10 = 100 pairs including self pairs). This should give you a 10*10 2-D array where each value corresponds to the distance between a pair\n",
        "l=[]\n",
        "for i in arr:\n",
        "  print(i[:])\n",
        "\n",
        "\n",
        "\n",
        "\n",
        "\n",
        "\n",
        "\n",
        "#euclidean_array=np.sqrt(arr1).reshape(10,10)\n",
        "#euclidean_array\n",
        "\n",
        "\n",
        "\n",
        "\n",
        "\n",
        "\n",
        "\n",
        "\n"
      ],
      "execution_count": null,
      "outputs": [
        {
          "output_type": "stream",
          "name": "stdout",
          "text": [
            "[ 8 15]\n",
            "[17 15]\n",
            "[14  9]\n",
            "[16 11]\n",
            "[12  7]\n",
            "[ 5 11]\n",
            "[13 10]\n",
            "[15 15]\n",
            "[16  8]\n",
            "[ 5 18]\n"
          ]
        }
      ]
    },
    {
      "cell_type": "code",
      "source": [
        "# Calculate Manhattan distances between these pairs of points (total 10*10 = 100 pairs inlcuding self pairs).This should give you a 10*10 2-D array where each value corresponds to the distance between a pair.\n"
      ],
      "metadata": {
        "colab": {
          "base_uri": "https://localhost:8080/"
        },
        "id": "8KvDx42S6Sd3",
        "outputId": "b9be948e-3275-4f38-b08a-55c0e950ef23"
      },
      "execution_count": null,
      "outputs": [
        {
          "output_type": "stream",
          "name": "stdout",
          "text": [
            "[ 0.  4.  5.  9.  8.  2.  3.  0.  4.  9.  4.  0.  9. 13. 12.  2.  1.  4.\n",
            "  0. 13.  5.  9.  0.  4.  3.  7.  8.  5.  9.  4.  9. 13.  4.  0.  1. 11.\n",
            " 12.  9. 13.  0.  8. 12.  3.  1.  0. 10. 11.  8. 12.  1.  2.  2.  7. 11.\n",
            " 10.  0.  1.  2.  2. 11.  3.  1.  8. 12. 11.  1.  0.  3.  1. 12.  0.  4.\n",
            "  5.  9.  8.  2.  3.  0.  4.  9.  4.  0.  9. 13. 12.  2.  1.  4.  0. 13.\n",
            "  9. 13.  4.  0.  1. 11. 12.  9. 13.  0.]\n"
          ]
        }
      ]
    },
    {
      "cell_type": "markdown",
      "metadata": {
        "id": "5ZaKtQlZBLoQ"
      },
      "source": [
        "## Find the closest pairs (excluding self pairs) on the basis of both the distance measures"
      ]
    },
    {
      "cell_type": "code",
      "metadata": {
        "id": "AeKJGamV6qnu"
      },
      "source": [
        "# Your code here\n",
        "\n",
        "\n",
        "\n"
      ],
      "execution_count": null,
      "outputs": []
    },
    {
      "cell_type": "markdown",
      "metadata": {
        "id": "rnEIpxdzfIhF"
      },
      "source": [
        "# <u>**Problem 3**</u>\n",
        "\n",
        "## Extract all the contiguous 3x3 blocks from a random 10x10 matrix. For example, the first matrix corresponds to [:3,:3], then the second matrix corresponds to [:3,1:4],.... Once you have covered the first three rows, then the next set of matrices would be [1:4,:3],[1:4,1:4],.... and so on and so forth. The last matrix would be [7:10,7:10]"
      ]
    },
    {
      "cell_type": "code",
      "metadata": {
        "id": "NuQh8LLBma-0",
        "colab": {
          "base_uri": "https://localhost:8080/"
        },
        "outputId": "7cf91980-1614-4628-d1d3-71677d88f798"
      },
      "source": [
        "# Your code below ..\n",
        "\n",
        "np.random.seed(100)\n",
        "random_matrix=np.random.randint(1,200,(10,10))\n",
        "random_matrix\n",
        "\n",
        "\n",
        "\n",
        "\n",
        "\n",
        "\n",
        "\n",
        "\n",
        "\n"
      ],
      "execution_count": null,
      "outputs": [
        {
          "output_type": "execute_result",
          "data": {
            "text/plain": [
              "array([[  9,  25,  68, 104,  88,  80, 177, 139,  95, 181],\n",
              "       [ 99,  54,  67,  15,  35,  25, 144, 108,  61,  59],\n",
              "       [145, 138,  94,  87, 131, 156, 109, 133, 160, 130],\n",
              "       [142, 101,   5,  92, 188,  68, 136,  50, 176, 194],\n",
              "       [ 62,  15, 184,  81,   3, 122, 106, 148,  64, 182],\n",
              "       [ 28,  57, 114, 159, 177,  48, 168, 110,  39, 173],\n",
              "       [ 19, 193, 185, 163, 182,  18,  73,  14, 107,  31],\n",
              "       [ 18,  54,  69, 179,  92, 182,  79,   1,  14, 186],\n",
              "       [107, 132,  71, 132, 139, 189, 132, 106, 177, 181],\n",
              "       [ 44,  37,   6,  72,  39,  95, 171,  85,  96, 115]])"
            ]
          },
          "metadata": {},
          "execution_count": 51
        }
      ]
    },
    {
      "cell_type": "code",
      "source": [
        "list1=[]\n",
        "for i in range(8):\n",
        "  for j in range(8):\n",
        "    list1.append(random_matrix[i:i+3,j:j+3])\n",
        "array1=np.array(list1)\n",
        "print(array1)"
      ],
      "metadata": {
        "id": "lPw5zLpgAaW7",
        "outputId": "64acd5fe-ca4b-4620-c9c2-e7b3a5a7b91b",
        "colab": {
          "base_uri": "https://localhost:8080/"
        }
      },
      "execution_count": null,
      "outputs": [
        {
          "output_type": "stream",
          "name": "stdout",
          "text": [
            "[[[  9  25  68]\n",
            "  [ 99  54  67]\n",
            "  [145 138  94]]\n",
            "\n",
            " [[ 25  68 104]\n",
            "  [ 54  67  15]\n",
            "  [138  94  87]]\n",
            "\n",
            " [[ 68 104  88]\n",
            "  [ 67  15  35]\n",
            "  [ 94  87 131]]\n",
            "\n",
            " [[104  88  80]\n",
            "  [ 15  35  25]\n",
            "  [ 87 131 156]]\n",
            "\n",
            " [[ 88  80 177]\n",
            "  [ 35  25 144]\n",
            "  [131 156 109]]\n",
            "\n",
            " [[ 80 177 139]\n",
            "  [ 25 144 108]\n",
            "  [156 109 133]]\n",
            "\n",
            " [[177 139  95]\n",
            "  [144 108  61]\n",
            "  [109 133 160]]\n",
            "\n",
            " [[139  95 181]\n",
            "  [108  61  59]\n",
            "  [133 160 130]]\n",
            "\n",
            " [[ 99  54  67]\n",
            "  [145 138  94]\n",
            "  [142 101   5]]\n",
            "\n",
            " [[ 54  67  15]\n",
            "  [138  94  87]\n",
            "  [101   5  92]]\n",
            "\n",
            " [[ 67  15  35]\n",
            "  [ 94  87 131]\n",
            "  [  5  92 188]]\n",
            "\n",
            " [[ 15  35  25]\n",
            "  [ 87 131 156]\n",
            "  [ 92 188  68]]\n",
            "\n",
            " [[ 35  25 144]\n",
            "  [131 156 109]\n",
            "  [188  68 136]]\n",
            "\n",
            " [[ 25 144 108]\n",
            "  [156 109 133]\n",
            "  [ 68 136  50]]\n",
            "\n",
            " [[144 108  61]\n",
            "  [109 133 160]\n",
            "  [136  50 176]]\n",
            "\n",
            " [[108  61  59]\n",
            "  [133 160 130]\n",
            "  [ 50 176 194]]\n",
            "\n",
            " [[145 138  94]\n",
            "  [142 101   5]\n",
            "  [ 62  15 184]]\n",
            "\n",
            " [[138  94  87]\n",
            "  [101   5  92]\n",
            "  [ 15 184  81]]\n",
            "\n",
            " [[ 94  87 131]\n",
            "  [  5  92 188]\n",
            "  [184  81   3]]\n",
            "\n",
            " [[ 87 131 156]\n",
            "  [ 92 188  68]\n",
            "  [ 81   3 122]]\n",
            "\n",
            " [[131 156 109]\n",
            "  [188  68 136]\n",
            "  [  3 122 106]]\n",
            "\n",
            " [[156 109 133]\n",
            "  [ 68 136  50]\n",
            "  [122 106 148]]\n",
            "\n",
            " [[109 133 160]\n",
            "  [136  50 176]\n",
            "  [106 148  64]]\n",
            "\n",
            " [[133 160 130]\n",
            "  [ 50 176 194]\n",
            "  [148  64 182]]\n",
            "\n",
            " [[142 101   5]\n",
            "  [ 62  15 184]\n",
            "  [ 28  57 114]]\n",
            "\n",
            " [[101   5  92]\n",
            "  [ 15 184  81]\n",
            "  [ 57 114 159]]\n",
            "\n",
            " [[  5  92 188]\n",
            "  [184  81   3]\n",
            "  [114 159 177]]\n",
            "\n",
            " [[ 92 188  68]\n",
            "  [ 81   3 122]\n",
            "  [159 177  48]]\n",
            "\n",
            " [[188  68 136]\n",
            "  [  3 122 106]\n",
            "  [177  48 168]]\n",
            "\n",
            " [[ 68 136  50]\n",
            "  [122 106 148]\n",
            "  [ 48 168 110]]\n",
            "\n",
            " [[136  50 176]\n",
            "  [106 148  64]\n",
            "  [168 110  39]]\n",
            "\n",
            " [[ 50 176 194]\n",
            "  [148  64 182]\n",
            "  [110  39 173]]\n",
            "\n",
            " [[ 62  15 184]\n",
            "  [ 28  57 114]\n",
            "  [ 19 193 185]]\n",
            "\n",
            " [[ 15 184  81]\n",
            "  [ 57 114 159]\n",
            "  [193 185 163]]\n",
            "\n",
            " [[184  81   3]\n",
            "  [114 159 177]\n",
            "  [185 163 182]]\n",
            "\n",
            " [[ 81   3 122]\n",
            "  [159 177  48]\n",
            "  [163 182  18]]\n",
            "\n",
            " [[  3 122 106]\n",
            "  [177  48 168]\n",
            "  [182  18  73]]\n",
            "\n",
            " [[122 106 148]\n",
            "  [ 48 168 110]\n",
            "  [ 18  73  14]]\n",
            "\n",
            " [[106 148  64]\n",
            "  [168 110  39]\n",
            "  [ 73  14 107]]\n",
            "\n",
            " [[148  64 182]\n",
            "  [110  39 173]\n",
            "  [ 14 107  31]]\n",
            "\n",
            " [[ 28  57 114]\n",
            "  [ 19 193 185]\n",
            "  [ 18  54  69]]\n",
            "\n",
            " [[ 57 114 159]\n",
            "  [193 185 163]\n",
            "  [ 54  69 179]]\n",
            "\n",
            " [[114 159 177]\n",
            "  [185 163 182]\n",
            "  [ 69 179  92]]\n",
            "\n",
            " [[159 177  48]\n",
            "  [163 182  18]\n",
            "  [179  92 182]]\n",
            "\n",
            " [[177  48 168]\n",
            "  [182  18  73]\n",
            "  [ 92 182  79]]\n",
            "\n",
            " [[ 48 168 110]\n",
            "  [ 18  73  14]\n",
            "  [182  79   1]]\n",
            "\n",
            " [[168 110  39]\n",
            "  [ 73  14 107]\n",
            "  [ 79   1  14]]\n",
            "\n",
            " [[110  39 173]\n",
            "  [ 14 107  31]\n",
            "  [  1  14 186]]\n",
            "\n",
            " [[ 19 193 185]\n",
            "  [ 18  54  69]\n",
            "  [107 132  71]]\n",
            "\n",
            " [[193 185 163]\n",
            "  [ 54  69 179]\n",
            "  [132  71 132]]\n",
            "\n",
            " [[185 163 182]\n",
            "  [ 69 179  92]\n",
            "  [ 71 132 139]]\n",
            "\n",
            " [[163 182  18]\n",
            "  [179  92 182]\n",
            "  [132 139 189]]\n",
            "\n",
            " [[182  18  73]\n",
            "  [ 92 182  79]\n",
            "  [139 189 132]]\n",
            "\n",
            " [[ 18  73  14]\n",
            "  [182  79   1]\n",
            "  [189 132 106]]\n",
            "\n",
            " [[ 73  14 107]\n",
            "  [ 79   1  14]\n",
            "  [132 106 177]]\n",
            "\n",
            " [[ 14 107  31]\n",
            "  [  1  14 186]\n",
            "  [106 177 181]]\n",
            "\n",
            " [[ 18  54  69]\n",
            "  [107 132  71]\n",
            "  [ 44  37   6]]\n",
            "\n",
            " [[ 54  69 179]\n",
            "  [132  71 132]\n",
            "  [ 37   6  72]]\n",
            "\n",
            " [[ 69 179  92]\n",
            "  [ 71 132 139]\n",
            "  [  6  72  39]]\n",
            "\n",
            " [[179  92 182]\n",
            "  [132 139 189]\n",
            "  [ 72  39  95]]\n",
            "\n",
            " [[ 92 182  79]\n",
            "  [139 189 132]\n",
            "  [ 39  95 171]]\n",
            "\n",
            " [[182  79   1]\n",
            "  [189 132 106]\n",
            "  [ 95 171  85]]\n",
            "\n",
            " [[ 79   1  14]\n",
            "  [132 106 177]\n",
            "  [171  85  96]]\n",
            "\n",
            " [[  1  14 186]\n",
            "  [106 177 181]\n",
            "  [ 85  96 115]]]\n"
          ]
        }
      ]
    },
    {
      "cell_type": "markdown",
      "metadata": {
        "id": "UtGDDH9Qq_2M"
      },
      "source": [
        "#<u>**Problem 4**</u>\n",
        "\n",
        "### Write a function which finds the nearest value from a given value in an array of random N elements. Suppose you created an 1-D array with 15 elements taking values between 10 and 500. Your function would take any input from these values and return the nearest value. (You can use np.abs() function)"
      ]
    },
    {
      "cell_type": "code",
      "metadata": {
        "id": "oknMAmKWFNSX"
      },
      "source": [
        "# Your function below\n",
        "def nearest_value_finder(arr,n):\n",
        "  x=np.sort(arr)\n",
        "  for i in range(len(x)):\n",
        "    if x[i]==n and x[i+1]-n>x[i-1]-n:\n",
        "      return x[i-1]\n",
        "    elif x[i]==n and x[i+1]-n<x[i-1]-n:\n",
        "      return x[i+1]\n",
        "\n",
        "\n",
        "\n",
        "\n"
      ],
      "execution_count": null,
      "outputs": []
    },
    {
      "cell_type": "code",
      "source": [
        "np.random.seed(15)\n",
        "arr1=np.random.randint(10,500,15)\n",
        "arr1"
      ],
      "metadata": {
        "colab": {
          "base_uri": "https://localhost:8080/"
        },
        "id": "Kc9_jpkszPH7",
        "outputId": "6f9983cb-693e-43f6-e4ba-1e3a77f1563c"
      },
      "execution_count": null,
      "outputs": [
        {
          "output_type": "execute_result",
          "data": {
            "text/plain": [
              "array([466, 255, 406, 143, 385, 394, 166, 165, 209, 213,  95, 128, 441,\n",
              "       231,  27])"
            ]
          },
          "metadata": {},
          "execution_count": 10
        }
      ]
    },
    {
      "cell_type": "code",
      "source": [
        "nearest_value_finder(arr1,143)"
      ],
      "metadata": {
        "colab": {
          "base_uri": "https://localhost:8080/"
        },
        "id": "YJ3cX1klzce5",
        "outputId": "7581c8e2-d7e4-40e9-9e52-b5499e71509b"
      },
      "execution_count": null,
      "outputs": [
        {
          "output_type": "execute_result",
          "data": {
            "text/plain": [
              "128"
            ]
          },
          "metadata": {},
          "execution_count": 11
        }
      ]
    },
    {
      "cell_type": "code",
      "source": [
        "nearest_value_finder(arr1,394)"
      ],
      "metadata": {
        "colab": {
          "base_uri": "https://localhost:8080/"
        },
        "id": "7Dr6qhPm0kL-",
        "outputId": "f6b27c33-c19f-454b-e24c-d5e1cf3eebbc"
      },
      "execution_count": null,
      "outputs": [
        {
          "output_type": "execute_result",
          "data": {
            "text/plain": [
              "385"
            ]
          },
          "metadata": {},
          "execution_count": 12
        }
      ]
    },
    {
      "cell_type": "code",
      "source": [],
      "metadata": {
        "id": "yXenyhtF09K-"
      },
      "execution_count": null,
      "outputs": []
    }
  ]
}